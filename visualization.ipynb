# visualization.ipynb

# Import necessary libraries
import sqlite3
import pandas as pd
import matplotlib.pyplot as plt
import seaborn as sns
import numpy as np
from matplotlib.ticker import FuncFormatter

# Set style for plots
plt.style.use('seaborn-v0_8')
sns.set_palette("husl")

# Connect to the database
def connect_to_db(db_path="data/rental_data.db"):
    """Connect to SQLite database"""
    conn = sqlite3.connect(db_path)
    return conn

# Create a formatter for Swedish Krona
def sek_formatter(x, pos):
    return f'SEK {x:,.0f}'

sek_format = FuncFormatter(sek_formatter)

# Load data into DataFrame
def load_data(conn):
    """Load all data from housing table into a DataFrame"""
    query = "SELECT * FROM housing"
    df = pd.read_sql_query(query, conn)
    return df

# Data cleaning and preprocessing
def preprocess_data(df):
    """Clean and preprocess the data for visualization"""
    # Create a copy
    df_clean = df.copy()
    
    # Convert price to numeric, handling errors
    df_clean['price'] = pd.to_numeric(df_clean['price'], errors='coerce')
    
    # Clean size_kvm
    df_clean['size_kvm'] = pd.to_numeric(df_clean['size_kvm'], errors='coerce')
    
    # Calculate price per square meter
    df_clean['price_per_sqm'] = df_clean['price'] / df_clean['size_kvm']
    
    # Remove extreme outliers (top and bottom 1%)
    price_q1 = df_clean['price'].quantile(0.01)
    price_q99 = df_clean['price'].quantile(0.99)
    df_clean = df_clean[(df_clean['price'] >= price_q1) & (df_clean['price'] <= price_q99)]
    
    # Standardize location names
    df_clean['location_clean'] = df_clean['location'].str.title()
    
    return df_clean

# Visualization functions
def plot_price_distribution(df):
    """Plot distribution of rental prices"""
    fig, (ax1, ax2) = plt.subplots(1, 2, figsize=(15, 5))
    
    # Histogram
    ax1.hist(df['price'].dropna(), bins=30, edgecolor='black', alpha=0.7)
    ax1.set_xlabel('Price (SEK)')
    ax1.set_ylabel('Frequency')
    ax1.set_title('Distribution of Rental Prices')
    ax1.xaxis.set_major_formatter(sek_format)
    
    # Box plot
    ax2.boxplot(df['price'].dropna())
    ax2.set_ylabel('Price (SEK)')
    ax2.set_title('Box Plot of Rental Prices')
    ax2.yaxis.set_major_formatter(sek_format)
    
    plt.tight_layout()
    plt.show()

def plot_price_by_location(df, top_n=15):
    """Plot average prices by location"""
    # Calculate average price by location
    location_stats = df.groupby('location_clean').agg({
        'price': ['mean', 'count']
    }).round(0)
    
    # Flatten column names
    location_stats.columns = ['avg_price', 'count']
    
    # Filter locations with at least 5 listings
    location_stats = location_stats[location_stats['count'] >= 5]
    
    # Get top N locations by count
    top_locations = location_stats.nlargest(top_n, 'count')
    
    # Create plot
    fig, ax = plt.subplots(figsize=(12, 8))
    bars = ax.barh(range(len(top_locations)), top_locations['avg_price'], 
                   tick_label=top_locations.index)
    
    ax.set_xlabel('Average Price (SEK)')
    ax.set_title(f'Top {top_n} Locations by Average Rental Price')
    ax.xaxis.set_major_formatter(sek_format)
    
    # Add value labels on bars
    for i, (price, count) in enumerate(zip(top_locations['avg_price'], top_locations['count'])):
        ax.text(price + 500, i, f'SEK {price:,.0f}\n({count} listings)', 
                va='center', fontsize=9)
    
    plt.gca().invert_yaxis()
    plt.tight_layout()
    plt.show()

def plot_price_vs_size(df):
    """Scatter plot of price vs size"""
    fig, ax = plt.subplots(figsize=(10, 6))
    
    # Filter out extreme values for better visualization
    filtered = df[(df['size_kvm'] < 200) & (df['price'] < 40000)]
    
    scatter = ax.scatter(filtered['size_kvm'], filtered['price'], alpha=0.6)
    ax.set_xlabel('Size (m²)')
    ax.set_ylabel('Price (SEK)')
    ax.set_title('Rental Price vs Apartment Size')
    ax.yaxis.set_major_formatter(sek_format)
    
    # Add trend line
    z = np.polyfit(filtered['size_kvm'], filtered['price'], 1)
    p = np.poly1d(z)
    ax.plot(filtered['size_kvm'], p(filtered['size_kvm']), "r--", alpha=0.8)
    
    plt.tight_layout()
    plt.show()

def plot_price_per_sqm(df, top_n=15):
    """Plot price per square meter by location"""
    # Calculate average price per sqm by location
    location_sqm = df.groupby('location_clean').agg({
        'price_per_sqm': ['mean', 'count']
    }).round(0)
    
    # Flatten column names
    location_sqm.columns = ['avg_price_sqm', 'count']
    
    # Filter locations with at least 5 listings
    location_sqm = location_sqm[location_sqm['count'] >= 5]
    
    # Get top N locations by price per sqm
    top_sqm = location_sqm.nlargest(top_n, 'avg_price_sqm')
    
    # Create plot
    fig, ax = plt.subplots(figsize=(12, 8))
    bars = ax.barh(range(len(top_sqm)), top_sqm['avg_price_sqm'], 
                   tick_label=top_sqm.index)
    
    ax.set_xlabel('Average Price per m² (SEK)')
    ax.set_title(f'Top {top_n} Locations by Price per Square Meter')
    ax.xaxis.set_major_formatter(sek_format)
    
    # Add value labels on bars
    for i, (price_sqm, count) in enumerate(zip(top_sqm['avg_price_sqm'], top_sqm['count'])):
        ax.text(price_sqm + 5, i, f'SEK {price_sqm:,.0f}\n({count} listings)', 
                va='center', fontsize=9)
    
    plt.gca().invert_yaxis()
    plt.tight_layout()
    plt.show()

def plot_property_type_distribution(df):
    """Plot distribution of property types"""
    prop_type_counts = df['property_type'].value_counts()
    
    fig, ax = plt.subplots(figsize=(10, 6))
    bars = ax.bar(range(len(prop_type_counts)), prop_type_counts.values, 
                  tick_label=prop_type_counts.index)
    
    ax.set_xlabel('Property Type')
    ax.set_ylabel('Number of Listings')
    ax.set_title('Distribution of Property Types')
    
    # Rotate x-axis labels for better readability
    plt.xticks(rotation=45, ha='right')
    
    # Add value labels on bars
    for i, count in enumerate(prop_type_counts.values):
        ax.text(i, count + 5, str(count), ha='center', va='bottom')
    
    plt.tight_layout()
    plt.show()

def plot_availability_timeline(df):
    """Plot timeline of availability"""
    # Convert available date to datetime
    df['available_date'] = pd.to_datetime(df['available'], errors='coerce')
    
    # Count listings by available date
    timeline = df['available_date'].value_counts().sort_index()
    
    fig, ax = plt.subplots(figsize=(12, 6))
    ax.plot(timeline.index, timeline.values, marker='o', linestyle='-')
    
    ax.set_xlabel('Date')
    ax.set_ylabel('Number of Listings Available')
    ax.set_title('Rental Listings Availability Timeline')
    
    # Format x-axis dates
    fig.autofmt_xdate()
    
    plt.tight_layout()
    plt.show()

# Main analysis function
def run_visual_analysis(db_path="data/rental_data.db"):
    """Run complete visual analysis"""
    print("Connecting to database...")
    conn = connect_to_db(db_path)
    
    print("Loading data...")
    df = load_data(conn)
    
    print(f"Loaded {len(df)} records")
    print("Preprocessing data...")
    df_clean = preprocess_data(df)
    
    print("Creating visualizations...")
    
    # 1. Price distribution
    print("\n1. Rental Price Distribution")
    plot_price_distribution(df_clean)
    
    # 2. Price by location
    print("\n2. Average Prices by Location")
    plot_price_by_location(df_clean)
    
    # 3. Price vs Size
    print("\n3. Price vs Apartment Size")
    plot_price_vs_size(df_clean)
    
    # 4. Price per square meter
    print("\n4. Price per Square Meter by Location")
    plot_price_per_sqm(df_clean)
    
    # 5. Property type distribution
    print("\n5. Property Type Distribution")
    plot_property_type_distribution(df_clean)
    
    # 6. Availability timeline (if dates are available)
    if not df_clean['available'].isna().all():
        print("\n6. Availability Timeline")
        plot_availability_timeline(df_clean)
    
    conn.close()
    print("\nAnalysis complete!")

# Run the analysis
if __name__ == "__main__":
    run_visual_analysis()
